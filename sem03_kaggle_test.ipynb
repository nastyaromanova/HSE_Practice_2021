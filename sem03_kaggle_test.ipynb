{
 "cells": [
  {
   "cell_type": "markdown",
   "metadata": {},
   "source": [
    "## 2. Получение предсказаний на тестовой выборке и создание файла для kaggle."
   ]
  },
  {
   "cell_type": "markdown",
   "metadata": {},
   "source": [
    "Считаем данные из яндекс-диска"
   ]
  },
  {
   "cell_type": "code",
   "execution_count": 1,
   "metadata": {
    "scrolled": true
   },
   "outputs": [],
   "source": [
    "import os\n",
    "import pandas as pd\n",
    "path = r'/Users/romanova/Downloads/kaggle_data' \n",
    "data = {}\n",
    "\n",
    "Data = []\n",
    "Target = []\n",
    "\n",
    "i=0\n",
    "for dir_entry in sorted(os.listdir(path)):\n",
    "    dir_entry_path = os.path.join(path, dir_entry)\n",
    "    if os.path.isfile(dir_entry_path):\n",
    "        i+=1\n",
    "        with open(dir_entry_path, 'r') as my_file:\n",
    "#            print(dir_entry_path.split(\"/\")[-1])\n",
    "            try:\n",
    "                df = pd.read_csv(my_file, delimiter=';')\n",
    "                if df.shape[1] == 5:\n",
    "                    Data.append(df)\n",
    "                    Target.append(dir_entry_path.split(\"/\")[-1])\n",
    "            except UnicodeDecodeError:\n",
    "#                print(dir_entry_path.split(\"/\")[-1])\n",
    "                pass\n",
    "\n",
    "for dir_entry in sorted(os.listdir(path)):\n",
    "    dir_entry_path = os.path.join(path, dir_entry)\n",
    "    if os.path.isfile(dir_entry_path):\n",
    "        i+=1\n",
    "        with open(dir_entry_path, 'r') as my_file:\n",
    "#            print(dir_entry_path.split(\"/\")[-1])\n",
    "            try:\n",
    "                df = pd.read_csv(my_file, delimiter=',')\n",
    "                if df.shape[1] == 5:\n",
    "                    Data.append(df)\n",
    "                    Target.append(dir_entry_path.split(\"/\")[-1])\n",
    "            except UnicodeDecodeError:\n",
    "#                print(dir_entry_path.split(\"/\")[-1])\n",
    "                pass"
   ]
  },
  {
   "cell_type": "markdown",
   "metadata": {},
   "source": [
    "Переведём типы движений в числа"
   ]
  },
  {
   "cell_type": "code",
   "execution_count": 2,
   "metadata": {},
   "outputs": [],
   "source": [
    "classes = {'тояни' : 0, 'месте' : 0, 'одьб' : 1, 'аг' : 1, 'ег' : 2, 'елоси' : 3, 'естн' : 4, 'одъ' : 4, \n",
    "           'втомо' : 5, 'ашин' : 5, 'метро' : 6, 'лектро' : 7, 'амок' : 8}\n",
    "\n",
    "answers = {'стояние' : 0, 'ходьба' : 1, 'бег' : 2, 'велосипед' : 3, 'лестница' : 4, \n",
    "           'автомобиль' : 5, 'метро' : 6, 'электросамокат' : 7, 'самокат' : 8}\n",
    "\n",
    "# стояние, ходьба, велосипед, лестница, бег, подъем, подъём, автомобиль, электросамокат, машина, метро"
   ]
  },
  {
   "cell_type": "code",
   "execution_count": 3,
   "metadata": {},
   "outputs": [],
   "source": [
    "def get_action(name):\n",
    "    for act in classes:\n",
    "        if name.lower().find(act) != -1:\n",
    "            return classes[act]\n",
    "    return -1"
   ]
  },
  {
   "cell_type": "markdown",
   "metadata": {},
   "source": [
    "Обработаем данные и извлечём признаки для создания модели"
   ]
  },
  {
   "cell_type": "code",
   "execution_count": 4,
   "metadata": {},
   "outputs": [],
   "source": [
    "def rotation_matrix(vector):\n",
    "    b = np.array([0, 0, -1])\n",
    "    # Нормируем\n",
    "    a = (vector / np.linalg.norm(vector)).reshape(3)\n",
    "    v = np.cross(a, b) # Вычисляем векторное произведение\n",
    "    \n",
    "    if any(v):\n",
    "        c = a * b\n",
    "        s = np.linalg.norm(v)\n",
    "        # Преобразование к матричной форме     \n",
    "        kmat = np.array([ [0, -v[2], v[1]],\n",
    "                          [v[2], 0, -v[0]],\n",
    "                          [-v[1], v[0], 0] ])\n",
    "\n",
    "        return np.eye(3) + kmat + kmat @ kmat * ((1 - c) / (s ** 2))\n",
    "\n",
    "    else:\n",
    "        return numpy.eye(3)\n",
    "    \n",
    "def rotate(df, mat):\n",
    "    new_x = []\n",
    "    new_y = []\n",
    "    new_z = []\n",
    "    \n",
    "    for elem in zip(df.gFx.tolist(), df.gFy.tolist(), df.gFz.tolist()):\n",
    "        res = mat @ elem\n",
    "        new_x.append(res[0])\n",
    "        new_y.append(res[1])\n",
    "        new_z.append(res[2])\n",
    "        \n",
    "    return new_x, new_y, new_z\n",
    "\n",
    "def integrate(Acc_arr):\n",
    "    sm_arr = np.cumsum(Acc_arr).tolist()\n",
    "    return sm_arr, sm_arr[-1]"
   ]
  },
  {
   "cell_type": "code",
   "execution_count": 14,
   "metadata": {
    "scrolled": true
   },
   "outputs": [
    {
     "name": "stdout",
     "output_type": "stream",
     "text": [
      "Populating the interactive namespace from numpy and matplotlib\n"
     ]
    }
   ],
   "source": [
    "import pandas as pd\n",
    "from matplotlib import pylab as plt\n",
    "from datetime import datetime\n",
    "%pylab inline\n",
    "\n",
    "def process_data(df, comma=True, cut=True, name = \"\", a=-1, b=-1):\n",
    "\n",
    "# приводим данные с Iphone к нужному формату\n",
    "    if comma is True:\n",
    "        df = df.applymap(lambda x: str(x).replace(',','.'))\n",
    "\n",
    "        try:\n",
    "            df['gFx'] = df['gFx'].astype(float)\n",
    "            df['gFy'] = df['gFy'].astype(float)\n",
    "            df['gFz'] = df['gFz'].astype(float)\n",
    "        except KeyError:\n",
    "            return [-1, -1, -1]\n",
    "        \n",
    "# средняя частота сбора данных\n",
    "    Freq = 0.0\n",
    "    try:\n",
    "        df[df.columns[0]] = df[df.columns[0]].astype(float)\n",
    "        Time = (df[df.columns[0]][df.shape[0]-2] - df[df.columns[0]][1])\n",
    "        Freq = round( (df.shape[0] - 2) / Time )\n",
    "    except:\n",
    "        Time = 20\n",
    "        Freq = round( (df.shape[0] - 2) / Time )\n",
    "        \n",
    "# обрезаем начало и конец трека\n",
    "    datFram_len = len(df) \n",
    "    toCut = round(datFram_len * 0.25)\n",
    "    if a == -1:\n",
    "        st = toCut\n",
    "    else:\n",
    "        st = a\n",
    "            \n",
    "    if b == -1:\n",
    "        end = -toCut\n",
    "    else:\n",
    "        end = b\n",
    "        \n",
    "    if cut == False:\n",
    "        st = 0\n",
    "        end = -1\n",
    "    \n",
    "\n",
    "#    print(name)\n",
    "\n",
    "#     fig, ((ax1, ax2)) = plt.subplots(nrows=1, ncols=2, figsize=(15,6))\n",
    "        \n",
    "########################################################\n",
    "# amplitude\n",
    "########################################################\n",
    "\n",
    "# вычисляем модуль (норму) ускорения и рисуем его\n",
    "    Acc = (df.gFx[st:end] ** 2 + df.gFy[st:end] ** 2 + df.gFz[st:end] ** 2) ** 0.5\n",
    "#     ax2.plot(Acc)\n",
    "#     plt.show()\n",
    "\n",
    "# можно различить многие действия по амплитуде ускорения\n",
    "    amplitude = Acc.max() - Acc.min()\n",
    "#    print(' АМПЛИТУДА:', Acc.max()-Acc.min())\n",
    "#    print()\n",
    "    \n",
    "            \n",
    "########################################################\n",
    "# преобразование Фурье\n",
    "########################################################\n",
    "\n",
    "    Fs = 250 #частота сбора данных\n",
    "    Min = 0\n",
    "    Acc = (df.gFx[st:end] ** 2 + df.gFy[st:end] ** 2 + df.gFz[st:end] ** 2) ** 0.5\n",
    "\n",
    "    y = Acc.values\n",
    "    if len(y) == 0:\n",
    "        hesitation = -1\n",
    "    else:\n",
    "        n = len(y) # length of the signal\n",
    "        k = np.arange(n)\n",
    "        T = n/Fs\n",
    "        frq = k/T # two sides frequency range\n",
    "        frq = frq[:len(frq)//2] # one side frequency range\n",
    "\n",
    "        Y = np.fft.fft(y)/n # dft and normalization\n",
    "        Y = Y[1:n//2]\n",
    "\n",
    "        yabs = abs(Y)\n",
    "        xmax = frq[numpy.argmax(yabs)]\n",
    "        ymax = yabs.max()\n",
    "\n",
    "        hesitation = xmax\n",
    "        if hesitation == 0:\n",
    "            hesitation = -1\n",
    "    \n",
    "#    рисование\n",
    "#    ax3.plot(frq,yabs) # plotting the spectrum\n",
    "#    ax3.set_xlim([0,30])\n",
    "#    ax3.set_ylim([Min,0.1])\n",
    "\n",
    "########################################################\n",
    "\n",
    "########################################################\n",
    "# Вращаем координаты, пытаемся определить Speed и модуль перемещения\n",
    "    move = []\n",
    "    try:\n",
    "        acc_mean = [df.gFx.mean(), df.gFy.mean(), df.gFz.mean()]\n",
    "        r_mat = rotation_matrix(acc_mean)\n",
    "        gx, gy, gz = rotate(df, r_mat)\n",
    "        df.gFx = pd.Series(gx)\n",
    "        df.gFy = pd.Series(gy)\n",
    "        df.gFz = pd.Series(gz)\n",
    "        \n",
    "        gx = [elem / Freq ** 2 for elem in gx]\n",
    "        gy = [elem / Freq ** 2 for elem in gy]\n",
    "        gz = [(elem + 1) / Freq ** 2 for elem in gz]\n",
    "        \n",
    "        speed_arrx, speedX = integrate(gx)\n",
    "        moveX, _ = integrate(speed_arrx)\n",
    "        \n",
    "        speed_arry, speedY = integrate(gy)\n",
    "        moveY, _ = integrate(speed_arry)\n",
    "        \n",
    "        speed_arrz, speedZ = integrate(gz)\n",
    "        moveZ, _ = integrate(speed_arrz)\n",
    "        \n",
    "        speed = (speedX ** 2 + speedY ** 2 + speedZ ** 2) ** 0.5\n",
    "        move = [moveX[-1], moveY[-1], moveZ[-1]]\n",
    "    except:\n",
    "        speed = -1\n",
    "########################################################     \n",
    "\n",
    "########################################################  \n",
    "# Считаем дисперсию\n",
    "    # среднее по модулю ускорения\n",
    "    mean_a = Acc.mean()\n",
    "    disp = 0.0\n",
    "    for row in Acc:\n",
    "        disp += (row - mean_a) ** 2\n",
    "    disp /= (df.shape[0] - 1)\n",
    "########################################################  \n",
    "\n",
    "#    print('Амплитуда:', amplitude, ' xmax:', xmax, ' ymax:', ymax, 'speed:', speed, 'disp:', disp, 'move:', move)\n",
    "    return [amplitude, xmax, ymax, yabs, speed, disp, move]\n",
    "\n",
    "Information = []\n",
    "for i in range (len(Data)):\n",
    "    Information.append(np.zeros(7))\n",
    "\n",
    "for df, target in zip(Data,Target):\n",
    "    track_num = int(target.split('_')[1].split('.')[0]) # важный момент, что треки не по нумерации идут!\n",
    "    Information[track_num] = process_data(df, name=target)"
   ]
  },
  {
   "cell_type": "markdown",
   "metadata": {},
   "source": [
    "Напишем функцию для получения предсказания (здесь используется только амплитуда, но в вашем итоговом решении будет больше признаков)"
   ]
  },
  {
   "cell_type": "code",
   "execution_count": 28,
   "metadata": {},
   "outputs": [],
   "source": [
    "def get_prediction_base(info):\n",
    "    ampl, xmax, ymax, yabs, speed, disp, move = info[0], info[1], info[2], info[3], info[4], info[5], info[6]\n",
    "    if ampl < 1 and max(yabs) < 0.015:\n",
    "        return 0 # стояние\n",
    "    if ampl > 4 and disp > 0.45 and max(yabs) > 0.07:\n",
    "        return 2 # бег\n",
    "    if 1 <= ampl <= 5:\n",
    "        if 0.2 < xmax < 3.1 and abs(move[1]) > max(abs(move[0]), abs(move[2])):\n",
    "            return 4 # лестница\n",
    "        elif 0.9 < xmax < 2.1:\n",
    "            return 1 # ходьба\n",
    "        if disp < 0.25 and speed > 0.03:\n",
    "            return 3 # велосипед\n",
    "    return 1"
   ]
  },
  {
   "cell_type": "code",
   "execution_count": 29,
   "metadata": {},
   "outputs": [],
   "source": [
    "def get_prediction_advanced(info):\n",
    "    ampl, xmax, ymax, yabs, speed, disp, move = info[0], info[1], info[2], info[3], info[4], info[5], info[6]\n",
    "    if speed > 0.3:\n",
    "        return 8\n",
    "    if speed > 0.1:\n",
    "        return 5 # автомобиль \n",
    "    if ampl < 1.5:\n",
    "        if 0.15 < ampl < 1 and disp < 0.0025:\n",
    "            if 0.4 < ampl < 0.6 and 0.001 < disp < 0.002:\n",
    "                return 5 # автомобиль\n",
    "            return 6 # метро\n",
    "        if 0.4 < ampl and disp < 0.03:\n",
    "            return 5 # автомобиль\n",
    "    return 7 # электросамокат"
   ]
  },
  {
   "cell_type": "code",
   "execution_count": 30,
   "metadata": {},
   "outputs": [
    {
     "data": {
      "text/plain": [
       "(146, 146, 146)"
      ]
     },
     "execution_count": 30,
     "metadata": {},
     "output_type": "execute_result"
    }
   ],
   "source": [
    "len(Data), len(Information), len(Target)"
   ]
  },
  {
   "cell_type": "code",
   "execution_count": 31,
   "metadata": {},
   "outputs": [
    {
     "data": {
      "text/plain": [
       "(146, 146)"
      ]
     },
     "execution_count": 31,
     "metadata": {},
     "output_type": "execute_result"
    }
   ],
   "source": [
    "Result = []\n",
    "\n",
    "count = 0\n",
    "for i in range (len(Information)):\n",
    "    if not ((math.isnan(Information[i][0]) or Information[i][0]==-1) and \n",
    "            (math.isnan(Information[i][1]) or Information[i][1]==-1) and \n",
    "            (math.isnan(Information[i][2]) or Information[i][2]==-1) and\n",
    "            (math.isnan(Information[i][3]) or Information[i][3]==-1) and\n",
    "            (math.isnan(Information[i][4]) or Information[i][4]==-1) ):\n",
    "        count += 1\n",
    "        Result.append(Information[i])\n",
    "    else:\n",
    "        Result.append([2, 2, 2, 0.1, 0.1])\n",
    "len(Result), count"
   ]
  },
  {
   "cell_type": "markdown",
   "metadata": {},
   "source": [
    "Создадим таблицу, содержащую номер трека и предсказание."
   ]
  },
  {
   "cell_type": "code",
   "execution_count": 32,
   "metadata": {},
   "outputs": [],
   "source": [
    "tracks_levels = pd.read_csv('/Users/romanova/Downloads/tracks_levels_3.csv')"
   ]
  },
  {
   "cell_type": "code",
   "execution_count": 33,
   "metadata": {},
   "outputs": [
    {
     "data": {
      "text/html": [
       "<div>\n",
       "<style scoped>\n",
       "    .dataframe tbody tr th:only-of-type {\n",
       "        vertical-align: middle;\n",
       "    }\n",
       "\n",
       "    .dataframe tbody tr th {\n",
       "        vertical-align: top;\n",
       "    }\n",
       "\n",
       "    .dataframe thead th {\n",
       "        text-align: right;\n",
       "    }\n",
       "</style>\n",
       "<table border=\"1\" class=\"dataframe\">\n",
       "  <thead>\n",
       "    <tr style=\"text-align: right;\">\n",
       "      <th></th>\n",
       "      <th>track_num</th>\n",
       "      <th>action</th>\n",
       "    </tr>\n",
       "  </thead>\n",
       "  <tbody>\n",
       "    <tr>\n",
       "      <th>0</th>\n",
       "      <td>0</td>\n",
       "      <td>3</td>\n",
       "    </tr>\n",
       "    <tr>\n",
       "      <th>1</th>\n",
       "      <td>1</td>\n",
       "      <td>1</td>\n",
       "    </tr>\n",
       "    <tr>\n",
       "      <th>2</th>\n",
       "      <td>2</td>\n",
       "      <td>4</td>\n",
       "    </tr>\n",
       "    <tr>\n",
       "      <th>3</th>\n",
       "      <td>3</td>\n",
       "      <td>2</td>\n",
       "    </tr>\n",
       "    <tr>\n",
       "      <th>4</th>\n",
       "      <td>4</td>\n",
       "      <td>4</td>\n",
       "    </tr>\n",
       "    <tr>\n",
       "      <th>5</th>\n",
       "      <td>5</td>\n",
       "      <td>3</td>\n",
       "    </tr>\n",
       "    <tr>\n",
       "      <th>6</th>\n",
       "      <td>6</td>\n",
       "      <td>1</td>\n",
       "    </tr>\n",
       "    <tr>\n",
       "      <th>7</th>\n",
       "      <td>7</td>\n",
       "      <td>2</td>\n",
       "    </tr>\n",
       "    <tr>\n",
       "      <th>8</th>\n",
       "      <td>8</td>\n",
       "      <td>1</td>\n",
       "    </tr>\n",
       "    <tr>\n",
       "      <th>9</th>\n",
       "      <td>9</td>\n",
       "      <td>0</td>\n",
       "    </tr>\n",
       "  </tbody>\n",
       "</table>\n",
       "</div>"
      ],
      "text/plain": [
       "   track_num  action\n",
       "0          0       3\n",
       "1          1       1\n",
       "2          2       4\n",
       "3          3       2\n",
       "4          4       4\n",
       "5          5       3\n",
       "6          6       1\n",
       "7          7       2\n",
       "8          8       1\n",
       "9          9       0"
      ]
     },
     "execution_count": 33,
     "metadata": {},
     "output_type": "execute_result"
    }
   ],
   "source": [
    "prediction = [1] * len(Result)\n",
    "for i in range(len(tracks_levels)):\n",
    "    if tracks_levels['level'][i] == 'advanced':\n",
    "        prediction[i] = get_prediction_advanced(Result[i])\n",
    "    else:\n",
    "        prediction[i] = get_prediction_base(Result[i])\n",
    "\n",
    "Res = pd.DataFrame({'track_num' : np.arange(len(Data)), 'action' : prediction})\n",
    "Res.head(10)"
   ]
  },
  {
   "cell_type": "code",
   "execution_count": 34,
   "metadata": {},
   "outputs": [
    {
     "data": {
      "text/plain": [
       "1    40\n",
       "3    34\n",
       "0    26\n",
       "2    18\n",
       "4    17\n",
       "5     6\n",
       "7     2\n",
       "6     2\n",
       "8     1\n",
       "Name: action, dtype: int64"
      ]
     },
     "execution_count": 34,
     "metadata": {},
     "output_type": "execute_result"
    }
   ],
   "source": [
    "Res['action'].value_counts()"
   ]
  },
  {
   "cell_type": "code",
   "execution_count": 35,
   "metadata": {},
   "outputs": [],
   "source": [
    "Res.to_csv(\"Romanova_Anastasia_3.csv\", index=False)"
   ]
  },
  {
   "cell_type": "code",
   "execution_count": null,
   "metadata": {},
   "outputs": [],
   "source": []
  }
 ],
 "metadata": {
  "kernelspec": {
   "display_name": "Python 3",
   "language": "python",
   "name": "python3"
  },
  "language_info": {
   "codemirror_mode": {
    "name": "ipython",
    "version": 3
   },
   "file_extension": ".py",
   "mimetype": "text/x-python",
   "name": "python",
   "nbconvert_exporter": "python",
   "pygments_lexer": "ipython3",
   "version": "3.7.3"
  }
 },
 "nbformat": 4,
 "nbformat_minor": 4
}
